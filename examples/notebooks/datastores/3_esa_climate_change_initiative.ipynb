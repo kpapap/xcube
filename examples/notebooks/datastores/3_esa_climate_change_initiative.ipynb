{
 "cells": [
  {
   "cell_type": "markdown",
   "metadata": {},
   "source": [
    "## xcube Data Store Framework - CCI Open Data Portal\n",
    "\n",
    "*Please checkout the general introduction to xcube data stores in the Jupyter Notebook [Getting Started](./1_getting_started.ipynb) before jumping into this notebook :)* \n",
    "\n",
    "This notebook provides a walk-through demonstrating how to use xcube and the xcube plugin for the [Open Data Portal](https://climate.esa.int/en/odp/#/dashboard) of the [ESA Climate Change Initiative](https://climate.esa.int/en/esa-climate/esa-cci/) (CCI) to read and explore CCI data.\n",
    "\n",
    "\n",
    "In order to run this notebook you need to install the `xcube_cci` plugin. You may do so by executing the following line in your terminal: \n",
    "\n",
    "```\n",
    "$  conda install -c conda-forge xcube-cci\n",
    "```\n",
    "\n",
    "Or you can install `xcube_cci` from sources by following the instructions on https://github.com/dcs4cop/xcube-cci.\n"
   ]
  },
  {
   "cell_type": "code",
   "execution_count": null,
   "metadata": {},
   "outputs": [],
   "source": [
    "# mandatory imports\n",
    "from xcube.core.store import find_data_store_extensions\n",
    "from xcube.core.store import get_data_store_params_schema\n",
    "from xcube.core.store import new_data_store\n",
    "\n",
    "# Utilities for notebook visualization\n",
    "import shapely.geometry\n",
    "from IPython.display import JSON\n",
    "import matplotlib.pyplot as plt"
   ]
  },
  {
   "cell_type": "markdown",
   "metadata": {},
   "source": [
    "Configure matplotlib to display graphs inline directly in the notebook and set a sensible default figure size."
   ]
  },
  {
   "cell_type": "code",
   "execution_count": null,
   "metadata": {},
   "outputs": [],
   "source": [
    "%matplotlib inline\n",
    "plt.rcParams[\"figure.figsize\"] = 16, 8"
   ]
  },
  {
   "cell_type": "markdown",
   "metadata": {},
   "source": [
    "Check whether the `cciodp` store is among the available stores, if not please follow the installation information from the top of this notebook. "
   ]
  },
  {
   "cell_type": "code",
   "execution_count": null,
   "metadata": {},
   "outputs": [],
   "source": [
    "JSON({e.name: e.metadata for e in find_data_store_extensions()})"
   ]
  },
  {
   "cell_type": "markdown",
   "metadata": {},
   "source": [
    "Usually we need more information to get the actual data store object. Which data store parameters are available for `cciodp`? (We'll take a look at the `ccizarr` data store later.)"
   ]
  },
  {
   "cell_type": "code",
   "execution_count": null,
   "metadata": {},
   "outputs": [],
   "source": [
    "get_data_store_params_schema(\"cciodp\")"
   ]
  },
  {
   "cell_type": "markdown",
   "metadata": {},
   "source": [
    "Provide mandatory parameters to instantiate the store class:"
   ]
  },
  {
   "cell_type": "code",
   "execution_count": null,
   "metadata": {},
   "outputs": [],
   "source": [
    "store = new_data_store(\"cciodp\")\n",
    "store"
   ]
  },
  {
   "cell_type": "markdown",
   "metadata": {},
   "source": [
    "Which datasets are provided? (the list may contain both gridded and vector datasets):"
   ]
  },
  {
   "cell_type": "markdown",
   "metadata": {},
   "source": [
    "We may ask for a specific dataset ..."
   ]
  },
  {
   "cell_type": "code",
   "execution_count": null,
   "metadata": {},
   "outputs": [],
   "source": [
    "store.has_data(\n",
    "    \"esacci.OC.5-days.L3S.CHLOR_A.multi-sensor.multi-platform.MERGED.3-1.geographic\"\n",
    ")"
   ]
  },
  {
   "cell_type": "markdown",
   "metadata": {},
   "source": [
    "... but in many cases we want to query for certain criteria. How can we do that?"
   ]
  },
  {
   "cell_type": "code",
   "execution_count": null,
   "metadata": {},
   "outputs": [],
   "source": [
    "store.get_search_params_schema()"
   ]
  },
  {
   "cell_type": "markdown",
   "metadata": {},
   "source": [
    "Now search, let's search for sea surface temperature data (SST) with a daily frequency: "
   ]
  },
  {
   "cell_type": "code",
   "execution_count": null,
   "metadata": {},
   "outputs": [],
   "source": [
    "iterator = store.search_data(cci_attrs=dict(ecv=\"SST\", frequency=\"day\"))\n",
    "JSON([item.to_dict() for item in iterator])"
   ]
  },
  {
   "cell_type": "markdown",
   "metadata": {},
   "source": [
    "Which parameters must be passsed or are available to open the dataset? "
   ]
  },
  {
   "cell_type": "code",
   "execution_count": null,
   "metadata": {},
   "outputs": [],
   "source": [
    "store.get_open_data_params_schema(\n",
    "    \"esacci.SST.day.L4.SSTdepth.multi-sensor.multi-platform.OSTIA.1-1.r1\"\n",
    ")"
   ]
  },
  {
   "cell_type": "markdown",
   "metadata": {},
   "source": [
    "There are no required parameters, so we can decide what parameters we would like to provide them to open a dataset:"
   ]
  },
  {
   "cell_type": "code",
   "execution_count": null,
   "metadata": {},
   "outputs": [],
   "source": [
    "dataset = store.open_data(\n",
    "    \"esacci.SST.day.L4.SSTdepth.multi-sensor.multi-platform.OSTIA.1-1.r1\",\n",
    "    variable_names=[\"analysed_sst\"],\n",
    "    time_range=[\"2008-07-01\", \"2008-07-10\"],\n",
    ")\n",
    "\n",
    "dataset"
   ]
  },
  {
   "cell_type": "markdown",
   "metadata": {},
   "source": [
    "Plot one time stamp of the dataset for a analysed_sst in order to take a brief look at the dataset:  "
   ]
  },
  {
   "cell_type": "code",
   "execution_count": null,
   "metadata": {},
   "outputs": [],
   "source": [
    "dataset.analysed_sst.isel(time=0).plot.imshow(cmap=\"plasma\")"
   ]
  },
  {
   "cell_type": "markdown",
   "metadata": {},
   "source": [
    "If you take a look at the available data stores above, you may have noticed the data store `ccizarr`. \n",
    "This store hosts a selected set of ESA CCI ECVs in the JASMIN Object Storage using the Zarr format.\n",
    "The datasets in this data store have a much better data access performance than datasets in `cciodp`.\n",
    "When accessed within the [JASMIN infrastructure](), access speed may increase by another magnitude.\n",
    "\n",
    "However, the dataset versions in this store may be outdated compared to the data in `cciodp`.\n",
    "So please make sure, the version of a certain dataset satifies your needs.\n",
    "\n",
    "The `ccizarr` data store is used in eactly the same way as `cciodp`:"
   ]
  },
  {
   "cell_type": "code",
   "execution_count": null,
   "metadata": {},
   "outputs": [],
   "source": [
    "zarr_store = new_data_store(\"ccizarr\")"
   ]
  },
  {
   "cell_type": "code",
   "execution_count": null,
   "metadata": {},
   "outputs": [],
   "source": [
    "JSON(zarr_store.list_data_ids())"
   ]
  },
  {
   "cell_type": "code",
   "execution_count": null,
   "metadata": {},
   "outputs": [],
   "source": [
    "dataset = zarr_store.open_data(\n",
    "    \"ESACCI-L3C_CLOUD-CLD_PRODUCTS-AVHRR_NOAA-1982-2016-fv3.0.zarr\"\n",
    ")\n",
    "dataset"
   ]
  },
  {
   "cell_type": "code",
   "execution_count": null,
   "metadata": {},
   "outputs": [],
   "source": [
    "dataset.cfc.isel(time=0).plot.imshow(cmap=\"bone\")"
   ]
  },
  {
   "cell_type": "code",
   "execution_count": null,
   "metadata": {},
   "outputs": [],
   "source": []
  }
 ],
 "metadata": {
  "kernelspec": {
   "display_name": "Python 3 (ipykernel)",
   "language": "python",
   "name": "python3"
  },
  "language_info": {
   "codemirror_mode": {
    "name": "ipython",
    "version": 3
   },
   "file_extension": ".py",
   "mimetype": "text/x-python",
   "name": "python",
   "nbconvert_exporter": "python",
   "pygments_lexer": "ipython3",
   "version": "3.9.13"
  }
 },
 "nbformat": 4,
 "nbformat_minor": 4
}
