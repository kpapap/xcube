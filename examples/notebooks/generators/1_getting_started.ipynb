{
 "cells": [
  {
   "cell_type": "markdown",
   "id": "secret-array",
   "metadata": {},
   "source": [
    "## Getting Started with xcube Data Cube Generators"
   ]
  },
  {
   "cell_type": "markdown",
   "id": "twelve-litigation",
   "metadata": {},
   "source": [
    "This notebook provides an overview of the available *xcube data cube generators*.\n",
    "\n",
    "The *xcube data cube generators* provide a uniform way \n",
    "\n",
    "* to read datasets from various sources using the _xcube data store framework_;\n",
    "* to combine the sources into a single data cube;\n",
    "* to write the data cube to a dedicated target, again using the _xcube data store framework_.\n",
    "\n",
    "Currently, xcube provides two generators, one for local execution and another one for utilisation \n",
    "of a dedicated generator service API. Here are the dedicated Notebooks:\n",
    "\n",
    "* [Local Cube Generator](./2_local.ipynb)\n",
    "* [Cube Generator Service](./3_service.ipynb)\n",
    "\n",
    "The xcube data store framework also has a some [dedicated notebooks](../datastores/1_getting_started.ipynb).\n",
    "\n",
    "The class `CubeGenerator` is the main entry point:"
   ]
  },
  {
   "cell_type": "code",
   "execution_count": 6,
   "id": "f77b427a-0b5d-4df0-ac7d-0145ff38021b",
   "metadata": {},
   "outputs": [],
   "source": [
    "from xcube.core.gen2 import CubeGenerator"
   ]
  },
  {
   "cell_type": "markdown",
   "id": "empty-response",
   "metadata": {},
   "source": [
    "To create a local cube generator we call `CubeGenerator.new()` without arguments or pass the `store_config` parameter, which configures data store instances to be used as inputs or outputs."
   ]
  },
  {
   "cell_type": "code",
   "execution_count": 7,
   "id": "separate-defendant",
   "metadata": {},
   "outputs": [
    {
     "data": {
      "text/plain": [
       "<xcube.core.gen2.generator.LocalCubeGenerator at 0x24e5e0aa430>"
      ]
     },
     "execution_count": 7,
     "metadata": {},
     "output_type": "execute_result"
    }
   ],
   "source": [
    "local_generator = CubeGenerator.new()\n",
    "local_generator"
   ]
  },
  {
   "cell_type": "markdown",
   "id": "accessible-zoning",
   "metadata": {},
   "source": [
    "To create a remote cube generator we call `CubeGenerator.new()` with the `service_config` parameter, which configures a remote cube generator service that performs the cube generation:"
   ]
  },
  {
   "cell_type": "code",
   "execution_count": 8,
   "id": "moderate-large",
   "metadata": {},
   "outputs": [
    {
     "data": {
      "text/plain": [
       "<xcube.core.gen2.service.generator.RemoteCubeGenerator at 0x24e5e0aa310>"
      ]
     },
     "execution_count": 8,
     "metadata": {},
     "output_type": "execute_result"
    }
   ],
   "source": [
    "remote_generator = CubeGenerator.new(service_config=\"edc-service.yml\")\n",
    "remote_generator"
   ]
  },
  {
   "cell_type": "markdown",
   "id": "regional-prospect",
   "metadata": {},
   "source": [
    "Cube generators have at least two common methods:\n",
    "\n",
    "* `get_cube_info(request)` provides some information about the cube that would be generated. It does not generate the cube.\n",
    "* `generate_cube(request)` generates the cube and returns a reference (data resource identifier) to the newly created cube."
   ]
  },
  {
   "cell_type": "markdown",
   "id": "bb098e1e-9cad-42fa-9d8a-d2be4643037b",
   "metadata": {},
   "source": [
    "Both methods return a result object. If `result.status` is `\"ok\"` then the result contains the actual valid result in `result.result`."
   ]
  },
  {
   "cell_type": "markdown",
   "id": "hollow-oregon",
   "metadata": {},
   "source": [
    "_This is a work in progress. More material will follow in an upcoming xcube release._"
   ]
  },
  {
   "cell_type": "code",
   "execution_count": null,
   "id": "banner-olive",
   "metadata": {},
   "outputs": [],
   "source": []
  }
 ],
 "metadata": {
  "kernelspec": {
   "display_name": "Python 3 (ipykernel)",
   "language": "python",
   "name": "python3"
  },
  "language_info": {
   "codemirror_mode": {
    "name": "ipython",
    "version": 3
   },
   "file_extension": ".py",
   "mimetype": "text/x-python",
   "name": "python",
   "nbconvert_exporter": "python",
   "pygments_lexer": "ipython3",
   "version": "3.9.6"
  }
 },
 "nbformat": 4,
 "nbformat_minor": 5
}
