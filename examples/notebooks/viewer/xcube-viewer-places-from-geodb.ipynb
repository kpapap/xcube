{
 "cells": [
  {
   "cell_type": "markdown",
   "id": "f4ef66d8-7be2-4a04-a341-1da91717ba92",
   "metadata": {},
   "source": [
    "# xcube server loading places from xcube geoDB\n",
    "\n",
    "This notebook describes how to enable xcube server to load places from the [xcube geoDB](https://github.com/dcs4cop/xcube-geodb).\n",
    "\n",
    "For this to work, the following requirements must be satisfied:\n",
    "\n",
    "* xcube version must be >= 1.0.3\n",
    "* The dedicated xcube plugin [xcube-geodb-places)](https://github.com/dcs4cop/xcube-geodb-places) must be installed:\n",
    "  `cd ${projects}`\n",
    "  `git clone https://github.com/dcs4cop/xcube-geodb-places.git`\n",
    "  `cd xcube-geodb-places`\n",
    "  `mamba activate xcube`\n",
    "  `pip install -e .`\n",
    "* access to the xcube geoDB (you need valid credntials)"
   ]
  },
  {
   "cell_type": "markdown",
   "id": "42e0f7d57caf398",
   "metadata": {
    "collapsed": false,
    "jupyter": {
     "outputs_hidden": false
    }
   },
   "source": [
    "## Configuration\n",
    "\n",
    "To add feature data from a xcube geoDB collection, you must have access to the xcube geoDB. If you wish to use your own collection, make sure to add it first to the xcube geoDB. But you can also use one of the public collections, as shown in the example. \n",
    "\n",
    "You need to specify the collection you want to load from the xcube geoDB to the xcube server configuration, and (re-)start xcube server.\n",
    "\n",
    "A sample configuration can be copied and adapted from [here](https://github.com/dcs4cop/xcube-geodb-places/blob/main/xcube_places_plugin/config.yml.example)."
   ]
  },
  {
   "cell_type": "markdown",
   "id": "87aa330969d303a2",
   "metadata": {
    "collapsed": false,
    "jupyter": {
     "outputs_hidden": false
    }
   },
   "source": [
    "### Explanation of the configuration items\n",
    "\n",
    "#### clientId and clientSecret:\n",
    "\n",
    "`GEODB_AUTH_CLIENT_ID:      <your_client_id>`\n",
    "\n",
    "`GEODB_AUTH_CLIENT_SECRET:  <your_client_secret>`\n",
    "\n",
    "If you are using xcube geoDB via EDC, your clientId and clientSecret are stored as environment variables. You can retrieve them by starting a Jupyter Notebook on EDC, and issuing the commands:\n",
    "\n",
    "```\n",
    "import os\n",
    "\n",
    "os.environ('GEODB_AUTH_CLIENT_ID')\n",
    "os.environ('GEODB_AUTH_CLIENT_SECRET')\n",
    "```\n",
    "\n",
    "\n",
    "#### Identifier:\n",
    "\n",
    "Some arbitrary name for the group of places. Can be anything, but must not contain spaces.\n",
    "\n",
    "\n",
    "#### Title:\n",
    "\n",
    "The title for the group of places, as it appears in the viewer.\n",
    "\n",
    "\n",
    "#### Query:\n",
    "\n",
    "A [PostGREST](https://postgrest.org/en/stable/references/api/tables_views.html)-compliant query to the geoDB. This query determines the places to load from the geoDB. The example (`collection-name?limit=100&depth=gt.10&select=list,of,columns`) translates to \"fetch the columns `list`, `of`, and `columns` from the first 100 rows from the collection `collection-name`, where the value of column `depth` is greater than 10\". There are plenty of other possibilities to design queries, which are described in the PostGREST documentation.\n",
    "\n",
    "\n",
    "#### DatasetRefs:\n",
    "\n",
    "The place groups defined in the configuration will only be shown for the datasets listed here.\n",
    "\n",
    "\n",
    "#### PropertyMapping:\n",
    "\n",
    "These fields control the display: you can define which column of the collection determines the label, the color, or the description for the places. For example, if you have a collection with a column `feature-name`, you may want to put here `label: feature-name`.\n",
    "\n",
    "For further server configuration details, please refer to the documentation: https://xcube.readthedocs.io/en/latest/cli/xcube_serve.html#configuration-file"
   ]
  },
  {
   "cell_type": "markdown",
   "id": "c324d7f0f634c419",
   "metadata": {
    "collapsed": false,
    "jupyter": {
     "outputs_hidden": false
    }
   },
   "source": [
    "### Demonstration of a sample configuration"
   ]
  },
  {
   "cell_type": "code",
   "execution_count": 7,
   "id": "4450c4c946b7cd30",
   "metadata": {
    "collapsed": false,
    "jupyter": {
     "outputs_hidden": false
    }
   },
   "outputs": [],
   "source": [
    "from xcube.webapi.viewer import Viewer\n",
    "\n",
    "viewer = Viewer(\n",
    "    server_config={\n",
    "        \"GeoDBConf\": {\n",
    "            \"GEODB_API_SERVER_URL\": \"https://xcube-geodb.brockmann-consult.de\",\n",
    "            \"GEODB_API_SERVER_PORT\": 443,\n",
    "            \"GEODB_AUTH_AUD\": \"https://xcube-users.brockmann-consult.de/api/v2\",\n",
    "            \"GEODB_AUTH_CLIENT_ID\": \"<your_client_id>\",\n",
    "            \"GEODB_AUTH_CLIENT_SECRET\": \"<your_client_secret>\",\n",
    "            \"PlaceGroups\": [\n",
    "                {\n",
    "                    \"Identifier\": \"DE002L1_HAMBURG_UA2018\",\n",
    "                    \"Title\": \"Hamburg - Urban Atlas Wetlands\",\n",
    "                    \"Query\": \"eea-urban-atlas_DE002L1_HAMBURG_UA2018?select=identifier&class_2018=eq.Wetlands\",\n",
    "                    \"PropertyMapping\": {\"label\": \"identifier\"},\n",
    "                    \"DatasetRefs\": [\"hamburg-city-cube\"],\n",
    "                }\n",
    "            ],\n",
    "        },\n",
    "        \"DataStores\": [\n",
    "            {\n",
    "                \"Identifier\": \"demo\",\n",
    "                \"StoreId\": \"s3\",\n",
    "                \"StoreParams\": {\n",
    "                    \"root\": \"xcube-dcfs/edc-xc-viewer-data\",\n",
    "                    \"storage_options\": {\"anon\": True},\n",
    "                },\n",
    "                \"Datasets\": [\n",
    "                    {\"Identifier\": \"hamburg-city-cube\", \"Path\": \"HH_CityCube_RGB.zarr\"}\n",
    "                ],\n",
    "            }\n",
    "        ],\n",
    "        \"Styles\": [\n",
    "            {\n",
    "                \"Identifier\": \"default\",\n",
    "                \"ColorMappings\": {\n",
    "                    \"MCI\": {\"ColorBar\": \"CMRmap\", \"ValueRange\": [0.0, 0.008]},\n",
    "                    \"NDVI\": {\"ColorBar\": \"RdYlGn\", \"ValueRange\": [-1.0, 1]},\n",
    "                    \"B02\": {\"ColorBar\": \"bone\", \"ValueRange\": [0.0, 0.25]},\n",
    "                    \"B03\": {\"ColorBar\": \"bone\", \"ValueRange\": [0.0, 0.25]},\n",
    "                    \"B04\": {\"ColorBar\": \"bone\", \"ValueRange\": [0.0, 0.25]},\n",
    "                    \"B05\": {\"ColorBar\": \"bone\", \"ValueRange\": [0.0, 0.25]},\n",
    "                    \"B06\": {\"ColorBar\": \"bone\", \"ValueRange\": [0.0, 0.25]},\n",
    "                    \"B08\": {\"ColorBar\": \"bone\", \"ValueRange\": [0.0, 0.25]},\n",
    "                    \"rgb\": {\n",
    "                        \"Red\": {\"Variable\": \"B04\", \"ValueRange\": [0.0, 0.25]},\n",
    "                        \"Green\": {\"Variable\": \"B03\", \"ValueRange\": [0.0, 0.25]},\n",
    "                        \"Blue\": {\"Variable\": \"B02\", \"ValueRange\": [0.0, 0.25]},\n",
    "                    },\n",
    "                },\n",
    "            }\n",
    "        ],\n",
    "    }\n",
    ")"
   ]
  },
  {
   "cell_type": "markdown",
   "id": "9493b8a79c6b87bb",
   "metadata": {
    "collapsed": false,
    "jupyter": {
     "outputs_hidden": false
    }
   },
   "source": [
    "### Start the viewer and inspect places; they have been loaded from the geoDB"
   ]
  },
  {
   "cell_type": "markdown",
   "id": "40178098-96b5-4ed9-9549-2757bca253ff",
   "metadata": {},
   "source": [
    "For xcube viewer functionalities please checkout the documentation: https://xcube.readthedocs.io/en/latest/viewer.html#functionality"
   ]
  },
  {
   "cell_type": "code",
   "execution_count": 8,
   "id": "c7b686f24967e707",
   "metadata": {
    "collapsed": false,
    "jupyter": {
     "outputs_hidden": false
    }
   },
   "outputs": [
    {
     "name": "stdout",
     "output_type": "stream",
     "text": [
      "Server: http://localhost:8002\n",
      "Viewer: http://localhost:8002/viewer/?serverUrl=http://localhost:8002\n"
     ]
    }
   ],
   "source": [
    "viewer.info()"
   ]
  },
  {
   "cell_type": "code",
   "execution_count": 9,
   "id": "fdc352b8-c18d-49a9-a9cf-7caa6f59ea6a",
   "metadata": {},
   "outputs": [
    {
     "data": {
      "text/html": [
       "<iframe src=\"http://localhost:8002/viewer/?serverUrl=http://localhost:8002&compact=1\" width=\"100%\" height=\"800\"/>"
      ],
      "text/plain": [
       "<IPython.core.display.HTML object>"
      ]
     },
     "execution_count": 9,
     "metadata": {},
     "output_type": "execute_result"
    },
    {
     "name": "stderr",
     "output_type": "stream",
     "text": [
      "404 GET /viewer/config/config.json (127.0.0.1): xcube viewer has not been been configured\n",
      "404 GET /viewer/config/config.json (127.0.0.1) 4.52ms\n"
     ]
    }
   ],
   "source": [
    "viewer.show()"
   ]
  },
  {
   "cell_type": "code",
   "execution_count": null,
   "id": "c55af924-f960-4485-97a0-363d141687f1",
   "metadata": {},
   "outputs": [],
   "source": []
  }
 ],
 "metadata": {
  "kernelspec": {
   "display_name": "Python 3 (ipykernel)",
   "language": "python",
   "name": "python3"
  },
  "language_info": {
   "codemirror_mode": {
    "name": "ipython",
    "version": 3
   },
   "file_extension": ".py",
   "mimetype": "text/x-python",
   "name": "python",
   "nbconvert_exporter": "python",
   "pygments_lexer": "ipython3",
   "version": "3.11.4"
  }
 },
 "nbformat": 4,
 "nbformat_minor": 5
}
